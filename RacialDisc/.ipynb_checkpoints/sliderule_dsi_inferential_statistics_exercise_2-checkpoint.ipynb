{
 "cells": [
  {
   "cell_type": "markdown",
   "metadata": {},
   "source": [
    "# Examining Racial Discrimination in the US Job Market\n",
    "\n",
    "### Background\n",
    "Racial discrimination continues to be pervasive in cultures throughout the world. Researchers examined the level of racial discrimination in the United States labor market by randomly assigning identical résumés to black-sounding or white-sounding names and observing the impact on requests for interviews from employers.\n",
    "\n",
    "### Data\n",
    "In the dataset provided, each row represents a resume. The 'race' column has two values, 'b' and 'w', indicating black-sounding and white-sounding. The column 'call' has two values, 1 and 0, indicating whether the resume received a call from employers or not.\n",
    "\n",
    "Note that the 'b' and 'w' values in race are assigned randomly to the resumes when presented to the employer."
   ]
  },
  {
   "cell_type": "markdown",
   "metadata": {},
   "source": [
    "<div class=\"span5 alert alert-info\">\n",
    "### Exercises\n",
    "You will perform a statistical analysis to establish whether race has a significant impact on the rate of callbacks for resumes.\n",
    "\n",
    "Answer the following questions **in this notebook below and submit to your Github account**. \n",
    "\n",
    "   1. What test is appropriate for this problem? Does CLT apply?\n",
    "   2. What are the null and alternate hypotheses?\n",
    "   3. Compute margin of error, confidence interval, and p-value.\n",
    "   4. Write a story describing the statistical significance in the context or the original problem.\n",
    "   5. Does your analysis mean that race/name is the most important factor in callback success? Why or why not? If not, how would you amend your analysis?\n",
    "\n",
    "You can include written notes in notebook cells using Markdown: \n",
    "   - In the control panel at the top, choose Cell > Cell Type > Markdown\n",
    "   - Markdown syntax: http://nestacms.com/docs/creating-content/markdown-cheat-sheet\n",
    "\n",
    "\n",
    "#### Resources\n",
    "+ Experiment information and data source: http://www.povertyactionlab.org/evaluation/discrimination-job-market-united-states\n",
    "+ Scipy statistical methods: http://docs.scipy.org/doc/scipy/reference/stats.html \n",
    "+ Markdown syntax: http://nestacms.com/docs/creating-content/markdown-cheat-sheet\n",
    "</div>\n",
    "****"
   ]
  },
  {
   "cell_type": "code",
   "execution_count": 3,
   "metadata": {
    "collapsed": true
   },
   "outputs": [],
   "source": [
    "import pandas as pd\n",
    "import numpy as np\n",
    "from scipy import stats"
   ]
  },
  {
   "cell_type": "code",
   "execution_count": 5,
   "metadata": {
    "collapsed": false
   },
   "outputs": [
    {
     "name": "stdout",
     "output_type": "stream",
     "text": [
      "  id ad  education  ofjobs  yearsexp  honors  volunteer  military  empholes  \\\n",
      "0  b  1          4       2         6       0          0         0         1   \n",
      "1  b  1          3       3         6       0          1         1         0   \n",
      "2  b  1          4       1         6       0          0         0         0   \n",
      "3  b  1          3       4         6       0          1         0         1   \n",
      "4  b  1          3       3        22       0          0         0         0   \n",
      "5  b  1          4       2         6       1          0         0         0   \n",
      "6  b  1          4       2         5       0          1         0         0   \n",
      "7  b  1          3       4        21       0          1         0         1   \n",
      "8  b  1          4       3         3       0          0         0         0   \n",
      "9  b  1          4       2         6       0          1         0         0   \n",
      "\n",
      "   occupspecific    ...      compreq  orgreq  manuf  transcom  bankreal trade  \\\n",
      "0             17    ...          1.0     0.0    1.0       0.0       0.0   0.0   \n",
      "1            316    ...          1.0     0.0    1.0       0.0       0.0   0.0   \n",
      "2             19    ...          1.0     0.0    1.0       0.0       0.0   0.0   \n",
      "3            313    ...          1.0     0.0    1.0       0.0       0.0   0.0   \n",
      "4            313    ...          1.0     1.0    0.0       0.0       0.0   0.0   \n",
      "5            266    ...          0.0     0.0    0.0       0.0       0.0   1.0   \n",
      "6             13    ...          0.0     0.0    0.0       0.0       0.0   1.0   \n",
      "7            313    ...          1.0     1.0    0.0       0.0       0.0   0.0   \n",
      "8            316    ...          0.0     0.0    0.0       0.0       0.0   1.0   \n",
      "9            263    ...          0.0     0.0    0.0       0.0       0.0   1.0   \n",
      "\n",
      "  busservice othservice  missind  ownership  \n",
      "0        0.0        0.0      0.0             \n",
      "1        0.0        0.0      0.0             \n",
      "2        0.0        0.0      0.0             \n",
      "3        0.0        0.0      0.0             \n",
      "4        0.0        1.0      0.0  Nonprofit  \n",
      "5        0.0        0.0      0.0    Private  \n",
      "6        0.0        0.0      0.0    Private  \n",
      "7        0.0        1.0      0.0  Nonprofit  \n",
      "8        0.0        0.0      0.0    Private  \n",
      "9        0.0        0.0      0.0    Private  \n",
      "\n",
      "[10 rows x 65 columns]\n"
     ]
    }
   ],
   "source": [
    "data = pd.io.stata.read_stata('us_job_market_discrimination.dta')\n",
    "print(data.head(10))"
   ]
  },
  {
   "cell_type": "markdown",
   "metadata": {
    "collapsed": true
   },
   "source": [
    "# Qn. 1 Appropiate test and CLT for the problem\n",
    " There are two category in races (b and w)to be tested, the test can be considered two sample z- test with a sample > 30. Consequently with that testing method, CLT appplies."
   ]
  },
  {
   "cell_type": "code",
   "execution_count": 6,
   "metadata": {
    "collapsed": false
   },
   "outputs": [
    {
     "name": "stdout",
     "output_type": "stream",
     "text": [
      "bpop callback: 157.0\n",
      "bpop no callback: 2278.0\n"
     ]
    }
   ],
   "source": [
    "# finding out number of callbacks and no callbacks for black-sounding names\n",
    "bpop_callback=sum(data[data.race=='b'].call)\n",
    "print('bpop callback: ' + str(bpop_callback))\n",
    "bpop_nocallback=sum(-1 * (data[data.race=='b'].call-1))\n",
    "print('bpop no callback: ' + str(bpop_nocallback))"
   ]
  },
  {
   "cell_type": "code",
   "execution_count": 7,
   "metadata": {
    "collapsed": false
   },
   "outputs": [
    {
     "name": "stdout",
     "output_type": "stream",
     "text": [
      "whitepop callback: 235.0\n",
      "wpop no callback: 2200.0\n"
     ]
    }
   ],
   "source": [
    "wpop_callback=sum(data[data.race=='w'].call)\n",
    "print('whitepop callback: ' + str(wpop_callback))\n",
    "wpop_nocallback=sum(-1 * (data[data.race=='w'].call-1))\n",
    "print('wpop no callback: ' + str(wpop_nocallback))"
   ]
  },
  {
   "cell_type": "markdown",
   "metadata": {},
   "source": [
    "With these apparent difference in the callback and no callback, we can proceed with whether the null or alternate hypothesis testing works"
   ]
  },
  {
   "cell_type": "markdown",
   "metadata": {},
   "source": [
    "# Qn. 2 The null and alternate hypothesis:\n",
    "\n",
    "Null Hypothesis is when the sample mean of the white population is equal to to the that of the black population. This case is ideally what we want. The Alternate Hypothesis is the converse result, whereby the the sample mean of the white population is NOT equal to to the that of the black population."
   ]
  },
  {
   "cell_type": "markdown",
   "metadata": {},
   "source": [
    "# Qn. 3 Computing the margin of error, confidence interval and p value\n",
    "we can calculate the following statistical computation using chi-square test based on the whitepop_call and nocall as well as the blackpop_call and no call"
   ]
  },
  {
   "cell_type": "code",
   "execution_count": 8,
   "metadata": {
    "collapsed": false
   },
   "outputs": [
    {
     "data": {
      "text/plain": [
       "(16.449028584189371, 4.9975783899632552e-05, 1, array([[  196.,  2239.],\n",
       "        [  196.,  2239.]]))"
      ]
     },
     "execution_count": 8,
     "metadata": {},
     "output_type": "execute_result"
    }
   ],
   "source": [
    "bwlist = np.array([[bpop_callback,bpop_nocallback],[wpop_callback,wpop_nocallback]])\n",
    "# we can use the function for chi square test with the argument of the array above\n",
    "stats.chi2_contingency(bwlist)"
   ]
  },
  {
   "cell_type": "code",
   "execution_count": 9,
   "metadata": {
    "collapsed": true
   },
   "outputs": [],
   "source": [
    "# finding the margin error using the formula included in the chi2 testing\n",
    "all_bpopcall=bpop_callback +bpop_nocallback\n",
    "all_wpopcall=wpop_callback +wpop_nocallback"
   ]
  },
  {
   "cell_type": "code",
   "execution_count": 10,
   "metadata": {
    "collapsed": false
   },
   "outputs": [
    {
     "name": "stdout",
     "output_type": "stream",
     "text": [
      "0.0320328542094\n"
     ]
    }
   ],
   "source": [
    "#finding the proportion of callback\n",
    "bcallprop=bpop_callback/all_bpopcall\n",
    "wcallprop=wpop_callback/all_wpopcall\n",
    "#we know that the white proportion is bigger\n",
    "prop_diff =wcallprop-bcallprop\n",
    "print(prop_diff)"
   ]
  },
  {
   "cell_type": "code",
   "execution_count": 11,
   "metadata": {
    "collapsed": false
   },
   "outputs": [
    {
     "name": "stdout",
     "output_type": "stream",
     "text": [
      "1.95996398454\n"
     ]
    }
   ],
   "source": [
    "#calculating for the critical of z test using the stats.norm.ppf function\n",
    "critz =stats.norm.ppf(0.975)\n",
    "print(critz)"
   ]
  },
  {
   "cell_type": "code",
   "execution_count": 12,
   "metadata": {
    "collapsed": false
   },
   "outputs": [
    {
     "name": "stdout",
     "output_type": "stream",
     "text": [
      "0.00778337058668\n",
      "('margin of error: -0.00747175544154', 0.023038496614891584)\n"
     ]
    }
   ],
   "source": [
    "#finding the margin of error, first need to find the difference in expecation variable\n",
    "diff=np.sqrt(((bcallprop*(1-bcallprop))/all_bpopcall) + ((wcallprop*(1-wcallprop))/all_wpopcall))\n",
    "print (diff)\n",
    "low, upp = [(diff - (critz *diff)), (diff + (critz *diff))]\n",
    "print ('margin of error: ' + str(low), (upp))"
   ]
  },
  {
   "cell_type": "markdown",
   "metadata": {},
   "source": [
    "# Qn. 4 \n",
    "The results from Qn.3 proves that for the dataset provided, there is a difference in the rate of callback that can achieved between a black sounding name and white sounding name. Hence, the black sounding names will receive a unfair career treatment in the job market"
   ]
  },
  {
   "cell_type": "markdown",
   "metadata": {},
   "source": [
    "# Qn. 5\n",
    "White the unfairness might be true, the racial discrimination in employment is not direct as this data  might have other factors such years of experience, honors, other job specification that is put into factor for hiring. For future analysis, if black and white sounding names are put into comparison again, perhaps the data should be filtered of based on the two categories with the same amount of experience and education. If the result of the data still shows that white sounding names are put in priority for employmeny, then there is a discrimination in the employment for different races"
   ]
  },
  {
   "cell_type": "code",
   "execution_count": null,
   "metadata": {
    "collapsed": true
   },
   "outputs": [],
   "source": []
  }
 ],
 "metadata": {
  "kernelspec": {
   "display_name": "Python 2",
   "language": "python",
   "name": "python2"
  },
  "language_info": {
   "codemirror_mode": {
    "name": "ipython",
    "version": 2
   },
   "file_extension": ".py",
   "mimetype": "text/x-python",
   "name": "python",
   "nbconvert_exporter": "python",
   "pygments_lexer": "ipython2",
   "version": "2.7.13"
  }
 },
 "nbformat": 4,
 "nbformat_minor": 0
}
