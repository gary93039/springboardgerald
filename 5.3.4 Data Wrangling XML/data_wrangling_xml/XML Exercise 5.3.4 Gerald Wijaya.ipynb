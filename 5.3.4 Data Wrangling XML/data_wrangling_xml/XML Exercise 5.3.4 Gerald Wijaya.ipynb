{
 "cells": [
  {
   "cell_type": "code",
   "execution_count": 5,
   "metadata": {
    "collapsed": true
   },
   "outputs": [],
   "source": [
    "import pandas as pd\n",
    "import numpy as np\n",
    "from xml.etree import ElementTree as ET"
   ]
  },
  {
   "cell_type": "code",
   "execution_count": 6,
   "metadata": {
    "collapsed": false
   },
   "outputs": [
    {
     "data": {
      "text/html": [
       "<div>\n",
       "<table border=\"1\" class=\"dataframe\">\n",
       "  <thead>\n",
       "    <tr style=\"text-align: right;\">\n",
       "      <th></th>\n",
       "      <th>city</th>\n",
       "      <th>year</th>\n",
       "      <th>population</th>\n",
       "    </tr>\n",
       "  </thead>\n",
       "  <tbody>\n",
       "    <tr>\n",
       "      <th>0</th>\n",
       "      <td>Tirana</td>\n",
       "      <td>1987</td>\n",
       "      <td>192000</td>\n",
       "    </tr>\n",
       "    <tr>\n",
       "      <th>1</th>\n",
       "      <td>Tirana</td>\n",
       "      <td>1990</td>\n",
       "      <td>244153</td>\n",
       "    </tr>\n",
       "    <tr>\n",
       "      <th>2</th>\n",
       "      <td>Tirana</td>\n",
       "      <td>2011</td>\n",
       "      <td>418495</td>\n",
       "    </tr>\n",
       "    <tr>\n",
       "      <th>3</th>\n",
       "      <td>Shkodër</td>\n",
       "      <td>1987</td>\n",
       "      <td>62000</td>\n",
       "    </tr>\n",
       "    <tr>\n",
       "      <th>4</th>\n",
       "      <td>Shkodër</td>\n",
       "      <td>2011</td>\n",
       "      <td>77075</td>\n",
       "    </tr>\n",
       "  </tbody>\n",
       "</table>\n",
       "</div>"
      ],
      "text/plain": [
       "      city  year population\n",
       "0   Tirana  1987     192000\n",
       "1   Tirana  1990     244153\n",
       "2   Tirana  2011     418495\n",
       "3  Shkodër  1987      62000\n",
       "4  Shkodër  2011      77075"
      ]
     },
     "execution_count": 6,
     "metadata": {},
     "output_type": "execute_result"
    }
   ],
   "source": [
    "# get data\n",
    "document_tree = ET.parse(\"data/mondial_database.xml\",)\n",
    "document_root = document_tree.getroot()\n",
    "\n",
    "# dataframe for the population measurement with year and country \n",
    "df_city_pop = pd.DataFrame(columns=[\"city\", \"year\", \"population\"])\n",
    "\n",
    "# iterate over xml - tree and extract\n",
    "# city, year and population\n",
    "for country in document_root.getiterator(\"country\"):\n",
    "    for city in country.iter(\"city\"):\n",
    "        city_name = city.find(\"name\").text\n",
    "        \n",
    "        if city.findall(\"population\") is None:\n",
    "            continue;\n",
    "        \n",
    "        for pop in city.findall(\"population\"):\n",
    "            year = pop.attrib[\"year\"]\n",
    "            population = pop.text\n",
    "            \n",
    "            df_city_pop = df_city_pop.append(\n",
    "            {\n",
    "                \"city\": city_name,\n",
    "                \"year\": year,\n",
    "                \"population\": population\n",
    "            }, ignore_index=True)\n",
    "            \n",
    "# check the data\n",
    "df_city_pop.head()"
   ]
  },
  {
   "cell_type": "code",
   "execution_count": 7,
   "metadata": {
    "collapsed": false
   },
   "outputs": [
    {
     "data": {
      "text/html": [
       "<div>\n",
       "<table border=\"1\" class=\"dataframe\">\n",
       "  <thead>\n",
       "    <tr style=\"text-align: right;\">\n",
       "      <th></th>\n",
       "      <th>city</th>\n",
       "      <th>year</th>\n",
       "      <th>population</th>\n",
       "    </tr>\n",
       "  </thead>\n",
       "  <tbody>\n",
       "    <tr>\n",
       "      <th>3750</th>\n",
       "      <td>Shanghai</td>\n",
       "      <td>2010</td>\n",
       "      <td>22315474.0</td>\n",
       "    </tr>\n",
       "    <tr>\n",
       "      <th>2607</th>\n",
       "      <td>Istanbul</td>\n",
       "      <td>2012</td>\n",
       "      <td>13710512.0</td>\n",
       "    </tr>\n",
       "    <tr>\n",
       "      <th>4303</th>\n",
       "      <td>Mumbai</td>\n",
       "      <td>2011</td>\n",
       "      <td>12442373.0</td>\n",
       "    </tr>\n",
       "    <tr>\n",
       "      <th>1546</th>\n",
       "      <td>Moskva</td>\n",
       "      <td>2013</td>\n",
       "      <td>11979529.0</td>\n",
       "    </tr>\n",
       "    <tr>\n",
       "      <th>3746</th>\n",
       "      <td>Beijing</td>\n",
       "      <td>2010</td>\n",
       "      <td>11716620.0</td>\n",
       "    </tr>\n",
       "    <tr>\n",
       "      <th>8208</th>\n",
       "      <td>São Paulo</td>\n",
       "      <td>2010</td>\n",
       "      <td>11152344.0</td>\n",
       "    </tr>\n",
       "    <tr>\n",
       "      <th>3754</th>\n",
       "      <td>Tianjin</td>\n",
       "      <td>2010</td>\n",
       "      <td>11090314.0</td>\n",
       "    </tr>\n",
       "    <tr>\n",
       "      <th>3364</th>\n",
       "      <td>Guangzhou</td>\n",
       "      <td>2010</td>\n",
       "      <td>11071424.0</td>\n",
       "    </tr>\n",
       "    <tr>\n",
       "      <th>4399</th>\n",
       "      <td>Delhi</td>\n",
       "      <td>2011</td>\n",
       "      <td>11034555.0</td>\n",
       "    </tr>\n",
       "    <tr>\n",
       "      <th>3371</th>\n",
       "      <td>Shenzhen</td>\n",
       "      <td>2010</td>\n",
       "      <td>10358381.0</td>\n",
       "    </tr>\n",
       "  </tbody>\n",
       "</table>\n",
       "</div>"
      ],
      "text/plain": [
       "           city  year  population\n",
       "3750   Shanghai  2010  22315474.0\n",
       "2607   Istanbul  2012  13710512.0\n",
       "4303     Mumbai  2011  12442373.0\n",
       "1546     Moskva  2013  11979529.0\n",
       "3746    Beijing  2010  11716620.0\n",
       "8208  São Paulo  2010  11152344.0\n",
       "3754    Tianjin  2010  11090314.0\n",
       "3364  Guangzhou  2010  11071424.0\n",
       "4399      Delhi  2011  11034555.0\n",
       "3371   Shenzhen  2010  10358381.0"
      ]
     },
     "execution_count": 7,
     "metadata": {},
     "output_type": "execute_result"
    }
   ],
   "source": [
    "# copy dataframe to save it for changes\n",
    "df_city_pop_c = df_city_pop.copy()\n",
    "\n",
    "# dataframe for the latest population measurement with year and city \n",
    "df_latest_city_pop = pd.DataFrame(columns=[\"city\", \"year\", \"population\"])\n",
    "\n",
    "# change population column to numeric\n",
    "df_city_pop_c[\"population\"] = pd.to_numeric(df_city_pop_c[\"population\"])\n",
    "\n",
    "# select all unique cities\n",
    "cities = df_city_pop[\"city\"].unique()\n",
    "\n",
    "# assamble all cities with latest population measurement in one dataframe\n",
    "for city in cities:\n",
    "    city_pop = df_city_pop_c[df_city_pop_c.city == city]\n",
    "    latest_measurement = city_pop[city_pop[\"year\"] == city_pop[\"year\"].max()]\n",
    "    df_latest_city_pop = df_latest_city_pop.append(latest_measurement)\n",
    "\n",
    "# sort values by population in descending order and take the first 10 elements\n",
    "df_latest_city_pop.sort_values(\"population\", ascending=False)[0:10]"
   ]
  },
  {
   "cell_type": "code",
   "execution_count": null,
   "metadata": {
    "collapsed": false
   },
   "outputs": [],
   "source": []
  },
  {
   "cell_type": "code",
   "execution_count": null,
   "metadata": {
    "collapsed": false
   },
   "outputs": [],
   "source": []
  },
  {
   "cell_type": "code",
   "execution_count": null,
   "metadata": {
    "collapsed": false
   },
   "outputs": [],
   "source": []
  },
  {
   "cell_type": "code",
   "execution_count": null,
   "metadata": {
    "collapsed": false
   },
   "outputs": [],
   "source": []
  }
 ],
 "metadata": {
  "kernelspec": {
   "display_name": "Python 2",
   "language": "python",
   "name": "python2"
  },
  "language_info": {
   "codemirror_mode": {
    "name": "ipython",
    "version": 2
   },
   "file_extension": ".py",
   "mimetype": "text/x-python",
   "name": "python",
   "nbconvert_exporter": "python",
   "pygments_lexer": "ipython2",
   "version": "2.7.13"
  }
 },
 "nbformat": 4,
 "nbformat_minor": 2
}
